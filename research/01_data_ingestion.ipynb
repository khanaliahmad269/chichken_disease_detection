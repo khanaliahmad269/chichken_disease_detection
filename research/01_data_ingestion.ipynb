{
 "cells": [
  {
   "cell_type": "code",
   "execution_count": 1,
   "id": "7a08e626",
   "metadata": {},
   "outputs": [],
   "source": [
    "import os\n"
   ]
  },
  {
   "cell_type": "code",
   "execution_count": 2,
   "id": "b8a93300",
   "metadata": {},
   "outputs": [
    {
     "data": {
      "text/plain": [
       "'e:\\\\chichken_disease_detection\\\\research'"
      ]
     },
     "execution_count": 2,
     "metadata": {},
     "output_type": "execute_result"
    }
   ],
   "source": [
    "%pwd\n"
   ]
  },
  {
   "cell_type": "code",
   "execution_count": 3,
   "id": "55f3420f",
   "metadata": {},
   "outputs": [],
   "source": [
    "os.chdir(\"../\")"
   ]
  },
  {
   "cell_type": "code",
   "execution_count": 4,
   "id": "ad7e4be9",
   "metadata": {},
   "outputs": [
    {
     "data": {
      "text/plain": [
       "'e:\\\\chichken_disease_detection'"
      ]
     },
     "execution_count": 4,
     "metadata": {},
     "output_type": "execute_result"
    }
   ],
   "source": [
    "%pwd"
   ]
  },
  {
   "cell_type": "code",
   "execution_count": null,
   "id": "18ed61e8",
   "metadata": {},
   "outputs": [],
   "source": [
    "from dataclasses import dataclass\n",
    "from pathlib import Path   "
   ]
  },
  {
   "cell_type": "code",
   "execution_count": null,
   "id": "757c6209",
   "metadata": {},
   "outputs": [],
   "source": [
    "#config entity\n",
    "\n",
    "from dataclasses import dataclass\n",
    "from pathlib import Path   \n",
    "\n",
    "@dataclass(frozen=True)\n",
    "class DataIngestionConfig:\n",
    "    root_dir: Path\n",
    "    source_URL: str\n",
    "    local_data_file: Path\n",
    "    unzip_dir: Path"
   ]
  },
  {
   "cell_type": "code",
   "execution_count": 42,
   "id": "82d4561f",
   "metadata": {},
   "outputs": [],
   "source": [
    "from chicken_disease_prediction.constants import *\n",
    "from chicken_disease_prediction.utils.common import read_yaml, create_directories"
   ]
  },
  {
   "cell_type": "code",
   "execution_count": 59,
   "id": "9efc0eb2",
   "metadata": {},
   "outputs": [],
   "source": [
    "class ConfigurationManager:\n",
    "    def __init__(\n",
    "        self,\n",
    "        config_filepath = CONFIG_FILE_PATH ,\n",
    "        params_filepath = PARAMS_FILE_PATH):\n",
    "\n",
    "        self.config = read_yaml(config_filepath)\n",
    "        self.params = read_yaml(params_filepath)\n",
    "\n",
    "        create_directories([self.config.artifacts_root])\n",
    "\n",
    "\n",
    "    def get_data_ingestion_config(self) -> DataIngestionConfig:\n",
    "        config= self.config.data_ingestion\n",
    "\n",
    "        create_directories([config.root_dir])\n",
    "        data_ingestion_config =DataIngestionConfig(\n",
    "            root_dir = config.root_dir,\n",
    "            source_URL=config.source_URL,\n",
    "            local_data_file=config.local_data_file,\n",
    "            unzip_dir=config.unzip_dir\n",
    "\n",
    "        )\n",
    "        return data_ingestion_config\n",
    " "
   ]
  },
  {
   "cell_type": "code",
   "execution_count": 60,
   "id": "3c572c91",
   "metadata": {},
   "outputs": [],
   "source": [
    "import os\n",
    "import urllib.request as request\n",
    "import zipfile\n",
    "from chicken_disease_prediction import logger\n",
    "from chicken_disease_prediction.utils.common import get_size\n"
   ]
  },
  {
   "cell_type": "code",
   "execution_count": 61,
   "id": "701a7b0a",
   "metadata": {},
   "outputs": [],
   "source": [
    "class DataIngestion:\n",
    "    def __init__(self,config: DataIngestionConfig):\n",
    "        self.config= config\n",
    "\n",
    "\n",
    "    def download_file(self):\n",
    "        if not os.path.exists(self.config.local_data_file):\n",
    "            filename, headers = request.urlretrieve(\n",
    "                url = self.config.source_URL,\n",
    "                filename=self.config.local_data_file\n",
    "            )\n",
    "            logger.info(f\"{filename} download! with following info: \\n{headers}\")\n",
    "        else:\n",
    "            logger.info(f\"file already exists of size: {get_size(Path(self.config.local_data_file))}\")\n",
    "\n",
    "\n",
    "    def extract_zip_file(self):\n",
    "        '''\n",
    "        zip_file_path: src\n",
    "        Extracts the zip file into the data directory \n",
    "        function returns none\n",
    "        '''\n",
    "        unzip_path = self.config.unzip_dir\n",
    "        os.makedirs(unzip_path, exist_ok=True)\n",
    "        with zipfile.ZipFile(self.config.local_data_file, 'r') as zip_ref:\n",
    "            zip_ref.extractall(unzip_path)"
   ]
  },
  {
   "cell_type": "code",
   "execution_count": 62,
   "id": "96ab7750",
   "metadata": {},
   "outputs": [
    {
     "name": "stdout",
     "output_type": "stream",
     "text": [
      "[2025-05-09 11:46:43,556: INFO: common: yaml file: config\\config.yaml loaded Successfully]\n",
      "[2025-05-09 11:46:43,559: INFO: common: yaml file: params.yaml loaded Successfully]\n",
      "[2025-05-09 11:46:43,562: INFO: common: created directory at artifacts]\n",
      "[2025-05-09 11:46:43,566: INFO: common: created directory at artifacts/data_ingestion]\n",
      "[2025-05-09 11:47:01,966: INFO: 3673814057: artifacts/data_ingestion/data.zip download! with following info: \n",
      "Connection: close\n",
      "Content-Length: 24191732\n",
      "Cache-Control: max-age=300\n",
      "Content-Security-Policy: default-src 'none'; style-src 'unsafe-inline'; sandbox\n",
      "Content-Type: application/zip\n",
      "ETag: \"3a1a6043dcc8424a06a8c9065c2a8f60a8fe1da2aa24afac43a6f20fe0acbf16\"\n",
      "Strict-Transport-Security: max-age=31536000\n",
      "X-Content-Type-Options: nosniff\n",
      "X-Frame-Options: deny\n",
      "X-XSS-Protection: 1; mode=block\n",
      "X-GitHub-Request-Id: E533:2795AC:759563:910D15:681DA4D7\n",
      "Accept-Ranges: bytes\n",
      "Date: Fri, 09 May 2025 06:46:51 GMT\n",
      "Via: 1.1 varnish\n",
      "X-Served-By: cache-fjr990033-FJR\n",
      "X-Cache: MISS\n",
      "X-Cache-Hits: 0\n",
      "X-Timer: S1746773207.612204,VS0,VE4418\n",
      "Vary: Authorization,Accept-Encoding,Origin\n",
      "Access-Control-Allow-Origin: *\n",
      "Cross-Origin-Resource-Policy: cross-origin\n",
      "X-Fastly-Request-ID: fb7f0c91dd550beee6fa4d150a5aecbf65f71061\n",
      "Expires: Fri, 09 May 2025 06:51:51 GMT\n",
      "Source-Age: 3\n",
      "\n",
      "]\n"
     ]
    }
   ],
   "source": [
    "import traceback\n",
    "\n",
    "try:\n",
    "    config = ConfigurationManager()\n",
    "    data_ingestion_config= config.get_data_ingestion_config()\n",
    "    data_ingestion = DataIngestion(config=data_ingestion_config)\n",
    "    data_ingestion.download_file()\n",
    "    data_ingestion.extract_zip_file()\n",
    "except Exception as e:\n",
    "    print(\"An error occurred:\", str(e))\n",
    "    traceback.print_exc()\n",
    "    raise"
   ]
  },
  {
   "cell_type": "code",
   "execution_count": null,
   "id": "5e2cb4ea",
   "metadata": {},
   "outputs": [],
   "source": []
  }
 ],
 "metadata": {
  "kernelspec": {
   "display_name": "chicken",
   "language": "python",
   "name": "python3"
  },
  "language_info": {
   "codemirror_mode": {
    "name": "ipython",
    "version": 3
   },
   "file_extension": ".py",
   "mimetype": "text/x-python",
   "name": "python",
   "nbconvert_exporter": "python",
   "pygments_lexer": "ipython3",
   "version": "3.8.20"
  }
 },
 "nbformat": 4,
 "nbformat_minor": 5
}
